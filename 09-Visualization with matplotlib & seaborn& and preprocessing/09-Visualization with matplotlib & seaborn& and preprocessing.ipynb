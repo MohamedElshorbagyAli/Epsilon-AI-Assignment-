#!/usr/bin/env python
# coding: utf-8

# In[44]:


import seaborn as sns
import pandas as pd
sns.set(rc={'figure.figsize':[8,8]},font_scale=1.2) 


# In[45]:


df = pd.read_csv('./50ulke.csv',sep=",")


# In[68]:


df.head()


# In[46]:


df.info()


# In[47]:


df.describe()


# In[48]:


df['National Income'].hist(color='g')


# In[49]:


sns.kdeplot(df['National Income'], color='g')


# In[50]:


df['Growth'].hist(color='g')


# In[51]:


sns.kdeplot(df['Growth'], color='g')


# In[52]:


df['Per person'].hist(color='g')


# In[53]:


sns.kdeplot(df['Per person'],color='g')


# In[82]:


sns.regplot(x=df['Growth'],y=df['National Income'],color='g')


# In[83]:


sns.regplot(x=df['Per person'],y=df['National Income'],color='g')


# In[84]:


sns.regplot(x=df['Growth'],y=df['Per person'],color='g')


# In[91]:


sns.jointplot(x='Growth', y='National Income', data=df, kind='scatter',height=8,color='g')


# In[86]:


sns.jointplot(x='Per person', y='National Income', data=df, kind='scatter',height=8,color='g')


# In[89]:


sns.jointplot(x='Growth', y='Per person', data=df, kind='scatter',height=8,color='g')


# In[102]:


sns.pairplot(df, vars=['National Income', 'Growth','Per person'],height=3, aspect=1.3)


# In[107]:


sns.pairplot(df, vars=['National Income', 'Growth','Per person'],hue='Continent',height=3, aspect=1.3)


# In[142]:


sns.boxplot(df['National Income'],color='g')


# In[143]:


sns.boxplot(df['Growth'],color='g')


# In[141]:


sns.boxplot(df['Per person'],color='g')


# In[140]:


sns.boxplot(x='Continent',y='National Income',data=df)


# In[123]:


sns.boxplot(x='Continent',y='Growth',data=df)


# In[125]:


sns.boxplot(x='Continent',y='Per person',data=df)


# In[128]:


sns.violinplot(x='Continent',y='National Income',data=df)


# In[129]:


sns.violinplot(x='Continent',y='Growth',data=df)


# In[130]:


sns.violinplot(x='Continent',y='Per person',data=df)


# In[131]:


sns.stripplot(x='Continent',y='National Income',data=df)


# In[132]:


sns.stripplot(x='Continent',y='Growth',data=df)


# In[133]:


sns.stripplot(x='Continent',y='Per person',data=df)


# In[144]:


sns.swarmplot(x='Continent',y='National Income',data=df)


# In[145]:


sns.swarmplot(x='Continent',y='Growth',data=df)


# In[146]:


sns.swarmplot(x='Continent',y='Per person',data=df)


# In[150]:


sns.barplot(x='Continent',y='National Income',data=df)


# In[151]:


sns.barplot(x='Continent',y='Growth',data=df)


# In[152]:


sns.barplot(x='Continent',y='Per person',data=df)


# In[156]:


df.corr()


# In[158]:


sns.heatmap(df.corr(),annot=True)

